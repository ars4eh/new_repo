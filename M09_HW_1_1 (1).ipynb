{
  "cells": [
    {
      "cell_type": "markdown",
      "id": "bbea800c-241d-42b4-a744-ecaffe13959e",
      "metadata": {
        "id": "bbea800c-241d-42b4-a744-ecaffe13959e"
      },
      "source": [
        "# Metadata\n",
        "\n",
        "```yaml\n",
        "Course:  DS 5100\n",
        "Module:  09 Python Packages\n",
        "Topic:   HW Package Booklover\n",
        "Author:  R.C. Alvarado (adapted)\n",
        "Date:    7 July 2023 (revised)\n",
        "```"
      ]
    },
    {
      "cell_type": "markdown",
      "id": "36f46fdd-2405-4dc8-9ea1-33f395e56cc0",
      "metadata": {
        "id": "36f46fdd-2405-4dc8-9ea1-33f395e56cc0"
      },
      "source": [
        "# Student Info\n",
        "\n",
        "* Name:  Austin Samhric\n",
        "* Net UD: ars4eh\n",
        "* URL of this file in GitHub:"
      ]
    },
    {
      "cell_type": "markdown",
      "id": "375875a8-1503-46eb-8ea1-7e5bf39b5c41",
      "metadata": {
        "id": "375875a8-1503-46eb-8ea1-7e5bf39b5c41"
      },
      "source": [
        "# Instructions\n",
        "\n",
        "In your **private course repo on Rivanna**, use this Jupyter notebook and the data file described to write code that performs the tasks below.\n",
        "\n",
        "Save your notebook in the `M09` directory.\n",
        "\n",
        "Remember to add and commit these files to your repo.\n",
        "\n",
        "Then push your commits to your repo on GitHib.\n",
        "\n",
        "Be sure to fill out the **Student Info** block above.\n",
        "\n",
        "To submit your homework, save your results as a PDF and upload it to GradeScope. More information about how to create the PDF for this assignment are included at the end of this document.\n",
        "\n",
        "**TOTAL POINTS: 8**"
      ]
    },
    {
      "cell_type": "markdown",
      "id": "1baf08dc-35fe-44f1-bc26-7e1130ee993e",
      "metadata": {
        "id": "1baf08dc-35fe-44f1-bc26-7e1130ee993e"
      },
      "source": [
        "# Overview\n",
        "\n",
        "Follow the following recipe we used in class to package the code you wrote for `HW08` -- `booklover.py` and `booklover_test.py`.\n",
        "\n",
        "* Create a new git repo for your package.\n",
        "* Create and edit the required files and directories for your package and move the booklover modules there.\n",
        "* Stage, commit, and push all the files you've created.\n",
        "* Install your package with pip.\n",
        "* Outside of your package dir, write a script to test your method.\n",
        "\n",
        "Put this notebook in your repo. This will allow you to execute bash commands and capture the outpunt directly in the notebook.\n",
        "\n",
        "**TOTAL: 8 POINTS**"
      ]
    },
    {
      "cell_type": "markdown",
      "id": "6e39ba79-49ee-41e8-9e49-23d9d6bac2e0",
      "metadata": {
        "tags": [],
        "id": "6e39ba79-49ee-41e8-9e49-23d9d6bac2e0"
      },
      "source": [
        "# Tasks"
      ]
    },
    {
      "cell_type": "markdown",
      "id": "fb11de14",
      "metadata": {
        "id": "fb11de14"
      },
      "source": [
        "## Task 1\n",
        "\n",
        "(5 points)\n",
        "\n",
        "Show the directory structure of your repo by running this command from the root of your repo:"
      ]
    },
    {
      "cell_type": "code",
      "execution_count": null,
      "id": "7e6c6607",
      "metadata": {
        "id": "7e6c6607"
      },
      "outputs": [],
      "source": [
        "!ls -lR"
      ]
    },
    {
      "cell_type": "markdown",
      "source": [
        "**Output from my Github repo terminal:**"
      ],
      "metadata": {
        "id": "AHIf10C7PuuN"
      },
      "id": "AHIf10C7PuuN"
    },
    {
      "cell_type": "markdown",
      "source": [
        ".:\n",
        "\n",
        "total 20\n",
        "\n",
        "-rw-rw-rw- 1 codespace root 7048 Nov 11 03:21 LICENSE\n",
        "\n",
        "-rw-rw-rw- 1 codespace root   10 Nov 11 03:21 README.md\n",
        "\n",
        "-rw-rw-rw- 1 codespace root 1667 Nov 11 03:21 booklover.py\n",
        "\n",
        "-rw-rw-rw- 1 codespace root 2584 Nov 11 03:21 booklover_test.py"
      ],
      "metadata": {
        "id": "677KbF0nPyK0"
      },
      "id": "677KbF0nPyK0"
    },
    {
      "cell_type": "markdown",
      "id": "6b6f288b-05aa-441b-8c73-84b50b3b6844",
      "metadata": {
        "id": "6b6f288b-05aa-441b-8c73-84b50b3b6844"
      },
      "source": [
        "## Task 2\n",
        "\n",
        "(1 point)\n",
        "\n",
        "Put the URL of your GitHub repo here. Just paste it into a Markdown cell."
      ]
    },
    {
      "cell_type": "markdown",
      "id": "4d09d889-6104-4f20-b31c-2d8a72b17693",
      "metadata": {
        "id": "4d09d889-6104-4f20-b31c-2d8a72b17693"
      },
      "source": [
        "URL: https://github.com/ars4eh/new_repo.git"
      ]
    },
    {
      "cell_type": "markdown",
      "id": "f989dcd1-b1d2-4eb9-8ef6-8ca2d8495260",
      "metadata": {
        "lines_to_next_cell": 0,
        "id": "f989dcd1-b1d2-4eb9-8ef6-8ca2d8495260"
      },
      "source": [
        "## Task 3\n",
        "\n",
        "(1 point)\n",
        "\n",
        "Show the results of installing your package.\n",
        "\n",
        "```bash\n",
        "!pip install -e .\n",
        "```"
      ]
    },
    {
      "cell_type": "code",
      "source": [
        "!pip install -e"
      ],
      "metadata": {
        "colab": {
          "base_uri": "https://localhost:8080/"
        },
        "id": "9SXmUmK7R5M1",
        "outputId": "6e700e08-46c4-412b-c124-475e08b9b964"
      },
      "id": "9SXmUmK7R5M1",
      "execution_count": 1,
      "outputs": [
        {
          "output_type": "stream",
          "name": "stdout",
          "text": [
            "\n",
            "Usage:   \n",
            "  pip3 install [options] <requirement specifier> [package-index-options] ...\n",
            "  pip3 install [options] -r <requirements file> [package-index-options] ...\n",
            "  pip3 install [options] [-e] <vcs project url> ...\n",
            "  pip3 install [options] [-e] <local project path> ...\n",
            "  pip3 install [options] <archive url/path> ...\n",
            "\n",
            "-e option requires 1 argument\n"
          ]
        }
      ]
    },
    {
      "cell_type": "markdown",
      "id": "5b1a642e-74f0-43ff-97a3-9ddc7553978e",
      "metadata": {
        "id": "5b1a642e-74f0-43ff-97a3-9ddc7553978e"
      },
      "source": [
        "## Task 4\n",
        "\n",
        "(1 point)\n",
        "\n",
        "Create a file outside your repo to test your package by running it.\n",
        "\n",
        "To do this, import the package into your file and create a BookLover object.\n",
        "\n",
        "Then add a book and then print number books read.\n",
        "\n",
        "Then run the file.\n",
        "\n",
        "Show the output of running the file below, using a command like the following:\n",
        "\n",
        "```bash\n",
        "!python ../book_lover_demo.py\n",
        "```"
      ]
    },
    {
      "cell_type": "markdown",
      "source": [
        "test_1_add_book (__main__.BookLoverTestSuite) ... ok\n",
        "\n",
        "test_2_add_book (__main__.BookLoverTestSuite) ... ok\n",
        "\n",
        "test_3_has_read (__main__.BookLoverTestSuite) ... ok\n",
        "\n",
        "test_4_has_read (__main__.BookLoverTestSuite) ... ok\n",
        "\n",
        "test_5_num_books_read (__main__.BookLoverTestSuite) ... ok\n",
        "\n",
        "test_6_fav_books (__main__.BookLoverTestSuite) ... ok\n",
        "\n",
        "\n",
        "----------------------------------------------------------------------\n",
        "\n",
        "Ran 6 tests in 0.065s\n",
        "\n",
        "\n",
        "OK\n",
        "\n",
        "'1984' already exists in the book list."
      ],
      "metadata": {
        "id": "2mgDN2A3Sgz2"
      },
      "id": "2mgDN2A3Sgz2"
    }
  ],
  "metadata": {
    "jupytext": {
      "cell_metadata_filter": "-all",
      "main_language": "bash",
      "notebook_metadata_filter": "-all"
    },
    "kernelspec": {
      "display_name": "Python 3 (ipykernel)",
      "language": "python",
      "name": "python3"
    },
    "language_info": {
      "codemirror_mode": {
        "name": "ipython",
        "version": 3
      },
      "file_extension": ".py",
      "mimetype": "text/x-python",
      "name": "python",
      "nbconvert_exporter": "python",
      "pygments_lexer": "ipython3",
      "version": "3.8.16"
    },
    "vscode": {
      "interpreter": {
        "hash": "c3b963de08c47c3b6758389c5e0978ad73698a111eb508d4e16b558edb8f4cbf"
      }
    },
    "colab": {
      "provenance": []
    }
  },
  "nbformat": 4,
  "nbformat_minor": 5
}